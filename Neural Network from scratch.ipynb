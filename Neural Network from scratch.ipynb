{
 "cells": [
  {
   "cell_type": "code",
   "execution_count": 597,
   "id": "303aae48",
   "metadata": {},
   "outputs": [],
   "source": [
    "import pandas as pd\n",
    "import numpy as np\n",
    "from random import random\n",
    "import matplotlib.pyplot as plt"
   ]
  },
  {
   "cell_type": "code",
   "execution_count": 666,
   "id": "2f344294",
   "metadata": {},
   "outputs": [],
   "source": [
    "class MLP:\n",
    "    def __init__(self, num_inputs=4, num_hidden=[5,6], num_output=2):\n",
    "        \n",
    "        \n",
    "        #### initialize layers ###\n",
    "        \n",
    "        self.num_inputs = num_inputs\n",
    "        self.num_hidden = num_hidden \n",
    "        self.num_output = num_output\n",
    "        \n",
    "        self.layers = [self.num_inputs] + self.num_hidden + [self.num_output]\n",
    "        \n",
    "        ### initialize weights ###\n",
    "        \n",
    "        self.weights = []\n",
    "        for i in range(0,len(self.layers)-1): #no weights for input layer\n",
    "            weight = np.random.rand(self.layers[i], self.layers[i+1])\n",
    "            self.weights.append(weight)\n",
    "        \n",
    "        \n",
    "        ### initialize Activations ###\n",
    "        \n",
    "        self.activations = []\n",
    "        for i in range(len(self.layers)):\n",
    "            temp_zeros = np.zeros(self.layers[i])\n",
    "            self.activations.append(temp_zeros)\n",
    "        \n",
    "        ### initialize Derivatives ###\n",
    "        \n",
    "        self.derivatives = []\n",
    "        for i in range(len(self.layers)-1):\n",
    "            temp_zeros = np.zeros((self.layers[i], self.layers[i+1]))\n",
    "            self.derivatives.append(temp_zeros)\n",
    "        \n",
    "        self.bias_derivative = []\n",
    "        for i in range(len(self.layers)-1):\n",
    "            temp_zeros = np.zeros((self.layers[i+1]))\n",
    "            self.bias_derivative.append(temp_zeros)\n",
    "        \n",
    "        self.bias = []\n",
    "        for i in range(len(self.layers)-1):\n",
    "            b = np.random.rand(self.layers[i+1])\n",
    "            self.bias.append(b)\n",
    "            \n",
    "    def sigmoid(self, x):\n",
    "        return 1/(1+np.exp(-1*x))\n",
    "    \n",
    "    def sigmoid_derivative(self,sigx):\n",
    "        return sigx*(1.0-sigx)\n",
    "    \n",
    "    def Relu(self, x):\n",
    "        return np.maximum(0,x)\n",
    "    \n",
    "    def Relu_derivative(self,relux):\n",
    "        res = []\n",
    "        for ele in relux:\n",
    "            res.append(0) if ele==0 else res.append(1)\n",
    "        return res\n",
    "    \n",
    "    def forward_propagation(self,inputs, activation='Relu'):\n",
    "        activations = inputs\n",
    "        self.activations[0] = inputs\n",
    "        \n",
    "        #iterate throuugh wi\n",
    "        for i,weight in enumerate(self.weights):\n",
    "            \n",
    "            #calculate each layer input (hi)\n",
    "            net_inputs = np.dot(activations, weight) + self.bias[i]\n",
    "            \n",
    "            if i == len(self.weights)-1:\n",
    "                break\n",
    "            if activation == 'Sigmoid':\n",
    "                #Calculate the activations (ai)\n",
    "                activations = self.sigmoid(net_inputs)\n",
    "\n",
    "            elif activation == 'Relu':\n",
    "                activations = self.Relu(net_inputs)\n",
    "                \n",
    "            self.activations[i+1] = activations\n",
    "            \n",
    "        activations = self.sigmoid(net_inputs)   \n",
    "        self.activations[len(self.weights)] = activations\n",
    "        return activations\n",
    "    \n",
    "    def back_propagation(self, error, activation = 'Relu'):\n",
    "        \n",
    "        for i in reversed(range(len(self.derivatives))):\n",
    "            ## get Sigmoid(h[i+1]) = activations[i+1]\n",
    "            activations = self.activations[i+1] \n",
    "            \n",
    "            if i == len(self.derivatives)-1 or activation == 'Sigmoid': \n",
    "                ## delta = (a[i+1] - y) * sigmoid'(h[i+1])\n",
    "                delta = error * self.sigmoid_derivative(activations)\n",
    "            else:\n",
    "                ## delta = (a[i+1] - y) * sigmoid'(h[i+1])\n",
    "                delta = error * self.Relu_derivative(activations)\n",
    "\n",
    "            ## calculate error derivative of current layer ## (delta E/ delta Wi) \n",
    "            current_act = self.activations[i]\n",
    "            \n",
    "            #transform current_act into 3x1 matrix (layers[i]x1)\n",
    "            current_act = current_act.reshape(current_act.shape[0], -1)  #-1 tells to automatically calculate the value of the column\n",
    "            \n",
    "            #transform delta into 1X2 matrix (1xlayers[i+1])\n",
    "            delta = delta.reshape(1,len(delta))\n",
    "            \n",
    "            ## (delta E/ delta Wi) ##\n",
    "            self.derivatives[i] = np.dot(current_act, delta) #(layers[i]xlayers[i+1])         \n",
    "            self.bias_derivative[i] = delta\n",
    "            \n",
    "            ## calculate new error ##\n",
    "            error = np.dot(delta,self.weights[i].T).flatten()\n",
    "            \n",
    "\n",
    "        return error\n",
    "    \n",
    "    \n",
    "    def gradient_decent(self, learning_rate = 0.5):\n",
    "        \n",
    "        for i in range(len(self.weights)):\n",
    "            weight = self.weights[i]\n",
    "            bias = self.bias[i]\n",
    "            derivative = self.derivatives[i]\n",
    "            weight = weight + learning_rate * derivative\n",
    "            bias = bias + learning_rate* self.bias_derivative[i]\n",
    "            self.weights[i] = weight\n",
    "    \n",
    "    def train(self,inputs, targets, epochs = 50, learning_rate = 0.2, verbose = False, activation = 'Relu'):\n",
    "        for i in range(0,epochs):   \n",
    "            sum_error = 0\n",
    "            if verbose:\n",
    "                print(\"\\n-------------Epoch: {}----------------\\n\".format(i+1))\n",
    "            \n",
    "            for (input, target) in zip(inputs,targets):\n",
    "                #forward prop\n",
    "                output = self.forward_propagation(input, activation = activation)\n",
    "\n",
    "                #calculate error\n",
    "                error = target - output\n",
    "                \n",
    "                sum_error +=self.mse(target, output)\n",
    "                #sum_error += abs(error)\n",
    "                \n",
    "                #back Prop\n",
    "                error = self.back_propagation(error, activation = 'Relu')\n",
    "                \n",
    "                #gradient descent\n",
    "                self.gradient_decent(learning_rate)\n",
    "                \n",
    "            if verbose:\n",
    "                print(\"-------------ERROR: {}----------------\\n\\n\".format(sum_error.round(5)))            \n",
    "    \n",
    "    def sign(self,x):\n",
    "        return 0 if x<0 else 1    \n",
    "    \n",
    "    def mse(self,target, output):\n",
    "        sum = 0\n",
    "        for i in range(len(target)):\n",
    "            sum+= (target[i]-output[i])**2\n",
    "        return sum/2\n",
    "\n",
    "\n",
    "    def regression_predict(self,input):\n",
    "        output=self.forward_propagation(input)\n",
    "        print(output)\n",
    "        return output\n",
    "    \n",
    "    def get_weights(self):\n",
    "        return self.weights"
   ]
  },
  {
   "cell_type": "code",
   "execution_count": 705,
   "id": "5c913129",
   "metadata": {},
   "outputs": [],
   "source": [
    "class MLP_Classifier:\n",
    "    def __init__(self, num_inputs=4, num_hidden=[5,6], num_output=2):\n",
    "        \n",
    "        self.num_inputs = num_inputs\n",
    "        self.num_hidden = num_hidden \n",
    "        self.num_output = num_output\n",
    "        \n",
    "        self.layers = [self.num_inputs] + self.num_hidden + [self.num_output]\n",
    "        \n",
    "        ### initialize weights ###\n",
    "        \n",
    "        self.weights = []\n",
    "        for i in range(0,len(self.layers)-1): #no weights for input layer\n",
    "            weight = np.random.rand(self.layers[i], self.layers[i+1])\n",
    "            self.weights.append(weight)\n",
    "        \n",
    "        \n",
    "        ### initialize Activations ###\n",
    "        \n",
    "        self.activations = []\n",
    "        for i in range(len(self.layers)):\n",
    "            temp_zeros = np.zeros(self.layers[i])\n",
    "            self.activations.append(temp_zeros)\n",
    "        \n",
    "        ### initialize Derivatives ###\n",
    "        \n",
    "        self.derivatives = []\n",
    "        for i in range(len(self.layers)-1):\n",
    "            temp_zeros = np.zeros((self.layers[i], self.layers[i+1]))\n",
    "            self.derivatives.append(temp_zeros)\n",
    "        \n",
    "        self.bias_derivative = []\n",
    "        for i in range(len(self.layers)-1):\n",
    "            temp_zeros = np.zeros((self.layers[i+1]))\n",
    "            self.bias_derivative.append(temp_zeros)\n",
    "        \n",
    "        self.bias = []\n",
    "        for i in range(len(self.layers)-1):\n",
    "            b = np.random.rand(self.layers[i+1])\n",
    "            self.bias.append(b)\n",
    "            \n",
    "    def sigmoid(self, x):\n",
    "        return 1/(1+np.exp(-1*x))\n",
    "    \n",
    "    def sigmoid_derivative(self,sigx):\n",
    "        return sigx*(1.0-sigx)\n",
    "    \n",
    "    def Relu(self, x):\n",
    "        return np.maximum(0,x)\n",
    "    \n",
    "    def Relu_derivative(self,relux):\n",
    "        res = []\n",
    "        for ele in relux:\n",
    "            res.append(0) if ele==0 else res.append(1)\n",
    "        return res\n",
    "    \n",
    "    def forward_propagation(self,inputs, activation='Relu'):\n",
    "        activations = inputs\n",
    "        self.activations[0] = inputs\n",
    "        \n",
    "        #iterate throuugh wi\n",
    "        for i,weight in enumerate(self.weights):\n",
    "            \n",
    "            #calculate each layer input (hi)\n",
    "            net_inputs = np.dot(activations, weight) + self.bias[i]\n",
    "            \n",
    "            if i == len(self.weights)-1:\n",
    "                break\n",
    "            if activation == 'Sigmoid':\n",
    "                #Calculate the activations (ai)\n",
    "                activations = self.sigmoid(net_inputs)\n",
    "\n",
    "            elif activation == 'Relu':\n",
    "                activations = self.Relu(net_inputs)   \n",
    "            self.activations[i+1] = activations\n",
    "            \n",
    "        activations = self.sigmoid(net_inputs)   \n",
    "        self.activations[len(self.weights)] = activations\n",
    "        #print(self.activations[1:], net_inputs)\n",
    "        return activations\n",
    "    \n",
    "    def back_propagation(self, error, activation = 'Relu'):\n",
    "        \n",
    "        for i in reversed(range(len(self.derivatives))):\n",
    "            ## get Sigmoid(h[i+1]) = activations[i+1]\n",
    "            activations = self.activations[i+1] \n",
    "            \n",
    "            if i == len(self.derivatives)-1 or activation == 'Sigmoid': \n",
    "                ## delta = (a[i+1] - y) * sigmoid'(h[i+1])\n",
    "                delta = error * self.sigmoid_derivative(activations)\n",
    "            else:\n",
    "                ## delta = (a[i+1] - y) * sigmoid'(h[i+1])\n",
    "                delta = error * self.Relu_derivative(activations)\n",
    "\n",
    "            ## calculate error derivative of current layer ## (delta E/ delta Wi) \n",
    "            current_act = self.activations[i]\n",
    "            #\n",
    "            #transform current_act into 3x1 matrix (layers[i]x1)\n",
    "            current_act = current_act.reshape(current_act.shape[0], -1)  #-1 tells to automatically calculate the value of the column\n",
    "            \n",
    "            #transform delta into 1X2 matrix (1xlayers[i+1])\n",
    "            delta = delta.reshape(1,len(delta))\n",
    "            \n",
    "            ## (delta E/ delta Wi) ##\n",
    "            self.derivatives[i] = np.dot(current_act, delta) #(layers[i]xlayers[i+1])         \n",
    "            self.bias_derivative[i] = delta\n",
    "            \n",
    "            ## calculate new error ##\n",
    "            error = np.dot(delta,self.weights[i].T).flatten()\n",
    "            \n",
    "\n",
    "        return error\n",
    "    \n",
    "    \n",
    "    def gradient_decent(self, learning_rate = 0.5):\n",
    "        \n",
    "        for i in range(len(self.weights)):\n",
    "            weight = self.weights[i]\n",
    "            bias = self.bias[i]\n",
    "            derivative = self.derivatives[i]\n",
    "            weight = weight + learning_rate * derivative\n",
    "            bias = bias + learning_rate* self.bias_derivative[i]\n",
    "            self.weights[i] = weight\n",
    "    \n",
    "    def train(self,inputs, targets, epochs = 50, learning_rate = 0.2, verbose = False, activation = 'Relu'):\n",
    "        for i in range(0,epochs):   \n",
    "            sum_error = 0\n",
    "            if verbose:\n",
    "                print(\"\\n-------------Epoch: {}----------------\\n\".format(i+1))\n",
    "            \n",
    "            for (input, target) in zip(inputs,targets):\n",
    "                #forward prop\n",
    "                output = self.forward_propagation(input, activation = activation)\n",
    "\n",
    "                #calculate error\n",
    "                error = target - output\n",
    "                \n",
    "                sum_error += target - output\n",
    "                #sum_error += abs(error)\n",
    "                \n",
    "                #back Prop\n",
    "                error = self.back_propagation(error, activation = 'Relu')\n",
    "                \n",
    "                #gradient descent\n",
    "                self.gradient_decent(learning_rate)\n",
    "                \n",
    "            if verbose:\n",
    "                print(\"-------------ERROR: {}----------------\\n\\n\".format(sum_error.round(5)/inputs.shape[1]))            \n",
    "\n",
    "    def classify_predict(self,input):\n",
    "        output = self.forward_propagation(input)\n",
    "        pred = np.where(output == max(output))[0]\n",
    "        return pred\n",
    "    \n",
    "    def get_weights(self):\n",
    "        return self.weights"
   ]
  },
  {
   "cell_type": "code",
   "execution_count": 668,
   "id": "5c775d5c",
   "metadata": {
    "scrolled": true
   },
   "outputs": [],
   "source": [
    "mlp = MLP(2,[5],1)"
   ]
  },
  {
   "cell_type": "code",
   "execution_count": 669,
   "id": "8b564842",
   "metadata": {},
   "outputs": [],
   "source": [
    "inputs = np.array([[random()/2 for _ in range(2)] for _ in range(800)])\n",
    "target = np.array([[i[0] + i[1]] for i in inputs])"
   ]
  },
  {
   "cell_type": "code",
   "execution_count": 670,
   "id": "6545a0f6",
   "metadata": {
    "scrolled": true
   },
   "outputs": [
    {
     "name": "stdout",
     "output_type": "stream",
     "text": [
      "\n",
      "-------------Epoch: 1----------------\n",
      "\n",
      "-------------ERROR: 40.40573----------------\n",
      "\n",
      "\n",
      "\n",
      "-------------Epoch: 2----------------\n",
      "\n",
      "-------------ERROR: 17.23148----------------\n",
      "\n",
      "\n",
      "\n",
      "-------------Epoch: 3----------------\n",
      "\n",
      "-------------ERROR: 15.52494----------------\n",
      "\n",
      "\n",
      "\n",
      "-------------Epoch: 4----------------\n",
      "\n",
      "-------------ERROR: 13.40937----------------\n",
      "\n",
      "\n",
      "\n",
      "-------------Epoch: 5----------------\n",
      "\n",
      "-------------ERROR: 10.96942----------------\n",
      "\n",
      "\n",
      "\n",
      "-------------Epoch: 6----------------\n",
      "\n",
      "-------------ERROR: 8.43844----------------\n",
      "\n",
      "\n",
      "\n",
      "-------------Epoch: 7----------------\n",
      "\n",
      "-------------ERROR: 6.11566----------------\n",
      "\n",
      "\n",
      "\n",
      "-------------Epoch: 8----------------\n",
      "\n",
      "-------------ERROR: 4.22229----------------\n",
      "\n",
      "\n",
      "\n",
      "-------------Epoch: 9----------------\n",
      "\n",
      "-------------ERROR: 2.82434----------------\n",
      "\n",
      "\n",
      "\n",
      "-------------Epoch: 10----------------\n",
      "\n",
      "-------------ERROR: 1.864----------------\n",
      "\n",
      "\n",
      "\n",
      "-------------Epoch: 11----------------\n",
      "\n",
      "-------------ERROR: 1.23347----------------\n",
      "\n",
      "\n",
      "\n",
      "-------------Epoch: 12----------------\n",
      "\n",
      "-------------ERROR: 0.8288----------------\n",
      "\n",
      "\n",
      "\n",
      "-------------Epoch: 13----------------\n",
      "\n",
      "-------------ERROR: 0.57081----------------\n",
      "\n",
      "\n",
      "\n",
      "-------------Epoch: 14----------------\n",
      "\n",
      "-------------ERROR: 0.40583----------------\n",
      "\n",
      "\n",
      "\n",
      "-------------Epoch: 15----------------\n",
      "\n",
      "-------------ERROR: 0.2995----------------\n",
      "\n",
      "\n",
      "\n",
      "-------------Epoch: 16----------------\n",
      "\n",
      "-------------ERROR: 0.23036----------------\n",
      "\n",
      "\n",
      "\n",
      "-------------Epoch: 17----------------\n",
      "\n",
      "-------------ERROR: 0.185----------------\n",
      "\n",
      "\n",
      "\n",
      "-------------Epoch: 18----------------\n",
      "\n",
      "-------------ERROR: 0.15502----------------\n",
      "\n",
      "\n",
      "\n",
      "-------------Epoch: 19----------------\n",
      "\n",
      "-------------ERROR: 0.13508----------------\n",
      "\n",
      "\n",
      "\n",
      "-------------Epoch: 20----------------\n",
      "\n",
      "-------------ERROR: 0.12174----------------\n",
      "\n",
      "\n",
      "\n",
      "-------------Epoch: 21----------------\n",
      "\n",
      "-------------ERROR: 0.11278----------------\n",
      "\n",
      "\n",
      "\n",
      "-------------Epoch: 22----------------\n",
      "\n",
      "-------------ERROR: 0.10674----------------\n",
      "\n",
      "\n",
      "\n",
      "-------------Epoch: 23----------------\n",
      "\n",
      "-------------ERROR: 0.10266----------------\n",
      "\n",
      "\n",
      "\n",
      "-------------Epoch: 24----------------\n",
      "\n",
      "-------------ERROR: 0.09989----------------\n",
      "\n",
      "\n",
      "\n",
      "-------------Epoch: 25----------------\n",
      "\n",
      "-------------ERROR: 0.09801----------------\n",
      "\n",
      "\n",
      "\n",
      "-------------Epoch: 26----------------\n",
      "\n",
      "-------------ERROR: 0.09674----------------\n",
      "\n",
      "\n",
      "\n",
      "-------------Epoch: 27----------------\n",
      "\n",
      "-------------ERROR: 0.09587----------------\n",
      "\n",
      "\n",
      "\n",
      "-------------Epoch: 28----------------\n",
      "\n",
      "-------------ERROR: 0.09527----------------\n",
      "\n",
      "\n",
      "\n",
      "-------------Epoch: 29----------------\n",
      "\n",
      "-------------ERROR: 0.09487----------------\n",
      "\n",
      "\n",
      "\n",
      "-------------Epoch: 30----------------\n",
      "\n",
      "-------------ERROR: 0.09459----------------\n",
      "\n",
      "\n",
      "\n",
      "-------------Epoch: 31----------------\n",
      "\n",
      "-------------ERROR: 0.09441----------------\n",
      "\n",
      "\n",
      "\n",
      "-------------Epoch: 32----------------\n",
      "\n",
      "-------------ERROR: 0.09428----------------\n",
      "\n",
      "\n",
      "\n",
      "-------------Epoch: 33----------------\n",
      "\n",
      "-------------ERROR: 0.09419----------------\n",
      "\n",
      "\n",
      "\n",
      "-------------Epoch: 34----------------\n",
      "\n",
      "-------------ERROR: 0.09413----------------\n",
      "\n",
      "\n",
      "\n",
      "-------------Epoch: 35----------------\n",
      "\n",
      "-------------ERROR: 0.09409----------------\n",
      "\n",
      "\n",
      "\n",
      "-------------Epoch: 36----------------\n",
      "\n",
      "-------------ERROR: 0.09406----------------\n",
      "\n",
      "\n",
      "\n",
      "-------------Epoch: 37----------------\n",
      "\n",
      "-------------ERROR: 0.09404----------------\n",
      "\n",
      "\n",
      "\n",
      "-------------Epoch: 38----------------\n",
      "\n",
      "-------------ERROR: 0.09403----------------\n",
      "\n",
      "\n",
      "\n",
      "-------------Epoch: 39----------------\n",
      "\n",
      "-------------ERROR: 0.09402----------------\n",
      "\n",
      "\n",
      "\n",
      "-------------Epoch: 40----------------\n",
      "\n",
      "-------------ERROR: 0.09401----------------\n",
      "\n",
      "\n",
      "\n",
      "-------------Epoch: 41----------------\n",
      "\n",
      "-------------ERROR: 0.09401----------------\n",
      "\n",
      "\n",
      "\n",
      "-------------Epoch: 42----------------\n",
      "\n",
      "-------------ERROR: 0.09401----------------\n",
      "\n",
      "\n",
      "\n",
      "-------------Epoch: 43----------------\n",
      "\n",
      "-------------ERROR: 0.094----------------\n",
      "\n",
      "\n",
      "\n",
      "-------------Epoch: 44----------------\n",
      "\n",
      "-------------ERROR: 0.094----------------\n",
      "\n",
      "\n",
      "\n",
      "-------------Epoch: 45----------------\n",
      "\n",
      "-------------ERROR: 0.094----------------\n",
      "\n",
      "\n",
      "\n",
      "-------------Epoch: 46----------------\n",
      "\n",
      "-------------ERROR: 0.094----------------\n",
      "\n",
      "\n",
      "\n",
      "-------------Epoch: 47----------------\n",
      "\n",
      "-------------ERROR: 0.094----------------\n",
      "\n",
      "\n",
      "\n",
      "-------------Epoch: 48----------------\n",
      "\n",
      "-------------ERROR: 0.094----------------\n",
      "\n",
      "\n",
      "\n",
      "-------------Epoch: 49----------------\n",
      "\n",
      "-------------ERROR: 0.094----------------\n",
      "\n",
      "\n",
      "\n",
      "-------------Epoch: 50----------------\n",
      "\n",
      "-------------ERROR: 0.094----------------\n",
      "\n",
      "\n"
     ]
    }
   ],
   "source": [
    "mlp.train(inputs,target, 50, learning_rate = 0.05, verbose = True, activation = 'Relu')"
   ]
  },
  {
   "cell_type": "code",
   "execution_count": 671,
   "id": "cd55c228",
   "metadata": {},
   "outputs": [
    {
     "data": {
      "text/plain": [
       "array([0.17364382, 0.31901729])"
      ]
     },
     "execution_count": 671,
     "metadata": {},
     "output_type": "execute_result"
    }
   ],
   "source": [
    "inputs[7]"
   ]
  },
  {
   "cell_type": "code",
   "execution_count": 672,
   "id": "b1ff6eb0",
   "metadata": {},
   "outputs": [
    {
     "data": {
      "text/plain": [
       "array([0.49266112])"
      ]
     },
     "execution_count": 672,
     "metadata": {},
     "output_type": "execute_result"
    }
   ],
   "source": [
    "target[7]"
   ]
  },
  {
   "cell_type": "code",
   "execution_count": 673,
   "id": "b874b8a3",
   "metadata": {},
   "outputs": [
    {
     "name": "stdout",
     "output_type": "stream",
     "text": [
      "[0.49179673]\n"
     ]
    },
    {
     "data": {
      "text/plain": [
       "array([0.49179673])"
      ]
     },
     "execution_count": 673,
     "metadata": {},
     "output_type": "execute_result"
    }
   ],
   "source": [
    "mlp.regression_predict(inputs[7])"
   ]
  },
  {
   "cell_type": "code",
   "execution_count": 674,
   "id": "6005dc15",
   "metadata": {
    "scrolled": true
   },
   "outputs": [
    {
     "name": "stdout",
     "output_type": "stream",
     "text": [
      "[0.50036645]\n"
     ]
    },
    {
     "data": {
      "text/plain": [
       "array([0.50036645])"
      ]
     },
     "execution_count": 674,
     "metadata": {},
     "output_type": "execute_result"
    }
   ],
   "source": [
    "mlp.regression_predict([0.1,0.4])"
   ]
  },
  {
   "cell_type": "code",
   "execution_count": 675,
   "id": "8c91a0ba",
   "metadata": {},
   "outputs": [
    {
     "name": "stdout",
     "output_type": "stream",
     "text": [
      "[0.38857433]\n"
     ]
    },
    {
     "data": {
      "text/plain": [
       "array([0.38857433])"
      ]
     },
     "execution_count": 675,
     "metadata": {},
     "output_type": "execute_result"
    }
   ],
   "source": [
    "mlp.regression_predict([0.1,0.3])"
   ]
  },
  {
   "cell_type": "code",
   "execution_count": 676,
   "id": "e94ab764",
   "metadata": {},
   "outputs": [
    {
     "name": "stdout",
     "output_type": "stream",
     "text": [
      "[0.16934932]\n"
     ]
    },
    {
     "data": {
      "text/plain": [
       "array([0.16934932])"
      ]
     },
     "execution_count": 676,
     "metadata": {},
     "output_type": "execute_result"
    }
   ],
   "source": [
    "mlp.regression_predict([0.1,0.05])"
   ]
  },
  {
   "cell_type": "markdown",
   "id": "fc58f8a2",
   "metadata": {},
   "source": [
    "## Mobile Phone Sales"
   ]
  },
  {
   "cell_type": "code",
   "execution_count": 677,
   "id": "11648910",
   "metadata": {
    "scrolled": true
   },
   "outputs": [
    {
     "data": {
      "text/html": [
       "<div>\n",
       "<style scoped>\n",
       "    .dataframe tbody tr th:only-of-type {\n",
       "        vertical-align: middle;\n",
       "    }\n",
       "\n",
       "    .dataframe tbody tr th {\n",
       "        vertical-align: top;\n",
       "    }\n",
       "\n",
       "    .dataframe thead th {\n",
       "        text-align: right;\n",
       "    }\n",
       "</style>\n",
       "<table border=\"1\" class=\"dataframe\">\n",
       "  <thead>\n",
       "    <tr style=\"text-align: right;\">\n",
       "      <th></th>\n",
       "      <th>label</th>\n",
       "      <th>pixel0</th>\n",
       "      <th>pixel1</th>\n",
       "      <th>pixel2</th>\n",
       "      <th>pixel3</th>\n",
       "      <th>pixel4</th>\n",
       "      <th>pixel5</th>\n",
       "      <th>pixel6</th>\n",
       "      <th>pixel7</th>\n",
       "      <th>pixel8</th>\n",
       "      <th>...</th>\n",
       "      <th>pixel774</th>\n",
       "      <th>pixel775</th>\n",
       "      <th>pixel776</th>\n",
       "      <th>pixel777</th>\n",
       "      <th>pixel778</th>\n",
       "      <th>pixel779</th>\n",
       "      <th>pixel780</th>\n",
       "      <th>pixel781</th>\n",
       "      <th>pixel782</th>\n",
       "      <th>pixel783</th>\n",
       "    </tr>\n",
       "  </thead>\n",
       "  <tbody>\n",
       "    <tr>\n",
       "      <th>0</th>\n",
       "      <td>1</td>\n",
       "      <td>0</td>\n",
       "      <td>0</td>\n",
       "      <td>0</td>\n",
       "      <td>0</td>\n",
       "      <td>0</td>\n",
       "      <td>0</td>\n",
       "      <td>0</td>\n",
       "      <td>0</td>\n",
       "      <td>0</td>\n",
       "      <td>...</td>\n",
       "      <td>0</td>\n",
       "      <td>0</td>\n",
       "      <td>0</td>\n",
       "      <td>0</td>\n",
       "      <td>0</td>\n",
       "      <td>0</td>\n",
       "      <td>0</td>\n",
       "      <td>0</td>\n",
       "      <td>0</td>\n",
       "      <td>0</td>\n",
       "    </tr>\n",
       "    <tr>\n",
       "      <th>1</th>\n",
       "      <td>0</td>\n",
       "      <td>0</td>\n",
       "      <td>0</td>\n",
       "      <td>0</td>\n",
       "      <td>0</td>\n",
       "      <td>0</td>\n",
       "      <td>0</td>\n",
       "      <td>0</td>\n",
       "      <td>0</td>\n",
       "      <td>0</td>\n",
       "      <td>...</td>\n",
       "      <td>0</td>\n",
       "      <td>0</td>\n",
       "      <td>0</td>\n",
       "      <td>0</td>\n",
       "      <td>0</td>\n",
       "      <td>0</td>\n",
       "      <td>0</td>\n",
       "      <td>0</td>\n",
       "      <td>0</td>\n",
       "      <td>0</td>\n",
       "    </tr>\n",
       "    <tr>\n",
       "      <th>2</th>\n",
       "      <td>1</td>\n",
       "      <td>0</td>\n",
       "      <td>0</td>\n",
       "      <td>0</td>\n",
       "      <td>0</td>\n",
       "      <td>0</td>\n",
       "      <td>0</td>\n",
       "      <td>0</td>\n",
       "      <td>0</td>\n",
       "      <td>0</td>\n",
       "      <td>...</td>\n",
       "      <td>0</td>\n",
       "      <td>0</td>\n",
       "      <td>0</td>\n",
       "      <td>0</td>\n",
       "      <td>0</td>\n",
       "      <td>0</td>\n",
       "      <td>0</td>\n",
       "      <td>0</td>\n",
       "      <td>0</td>\n",
       "      <td>0</td>\n",
       "    </tr>\n",
       "    <tr>\n",
       "      <th>3</th>\n",
       "      <td>4</td>\n",
       "      <td>0</td>\n",
       "      <td>0</td>\n",
       "      <td>0</td>\n",
       "      <td>0</td>\n",
       "      <td>0</td>\n",
       "      <td>0</td>\n",
       "      <td>0</td>\n",
       "      <td>0</td>\n",
       "      <td>0</td>\n",
       "      <td>...</td>\n",
       "      <td>0</td>\n",
       "      <td>0</td>\n",
       "      <td>0</td>\n",
       "      <td>0</td>\n",
       "      <td>0</td>\n",
       "      <td>0</td>\n",
       "      <td>0</td>\n",
       "      <td>0</td>\n",
       "      <td>0</td>\n",
       "      <td>0</td>\n",
       "    </tr>\n",
       "    <tr>\n",
       "      <th>4</th>\n",
       "      <td>0</td>\n",
       "      <td>0</td>\n",
       "      <td>0</td>\n",
       "      <td>0</td>\n",
       "      <td>0</td>\n",
       "      <td>0</td>\n",
       "      <td>0</td>\n",
       "      <td>0</td>\n",
       "      <td>0</td>\n",
       "      <td>0</td>\n",
       "      <td>...</td>\n",
       "      <td>0</td>\n",
       "      <td>0</td>\n",
       "      <td>0</td>\n",
       "      <td>0</td>\n",
       "      <td>0</td>\n",
       "      <td>0</td>\n",
       "      <td>0</td>\n",
       "      <td>0</td>\n",
       "      <td>0</td>\n",
       "      <td>0</td>\n",
       "    </tr>\n",
       "  </tbody>\n",
       "</table>\n",
       "<p>5 rows × 785 columns</p>\n",
       "</div>"
      ],
      "text/plain": [
       "   label  pixel0  pixel1  pixel2  pixel3  pixel4  pixel5  pixel6  pixel7  \\\n",
       "0      1       0       0       0       0       0       0       0       0   \n",
       "1      0       0       0       0       0       0       0       0       0   \n",
       "2      1       0       0       0       0       0       0       0       0   \n",
       "3      4       0       0       0       0       0       0       0       0   \n",
       "4      0       0       0       0       0       0       0       0       0   \n",
       "\n",
       "   pixel8  ...  pixel774  pixel775  pixel776  pixel777  pixel778  pixel779  \\\n",
       "0       0  ...         0         0         0         0         0         0   \n",
       "1       0  ...         0         0         0         0         0         0   \n",
       "2       0  ...         0         0         0         0         0         0   \n",
       "3       0  ...         0         0         0         0         0         0   \n",
       "4       0  ...         0         0         0         0         0         0   \n",
       "\n",
       "   pixel780  pixel781  pixel782  pixel783  \n",
       "0         0         0         0         0  \n",
       "1         0         0         0         0  \n",
       "2         0         0         0         0  \n",
       "3         0         0         0         0  \n",
       "4         0         0         0         0  \n",
       "\n",
       "[5 rows x 785 columns]"
      ]
     },
     "execution_count": 677,
     "metadata": {},
     "output_type": "execute_result"
    }
   ],
   "source": [
    "df = pd.read_csv(r\"C:\\Users\\rvikr\\CEG ML Lab\\train.csv\")\n",
    "df.head()"
   ]
  },
  {
   "cell_type": "code",
   "execution_count": 678,
   "id": "69818314",
   "metadata": {},
   "outputs": [],
   "source": [
    "df = df[df['label'].isin([1,0])]"
   ]
  },
  {
   "cell_type": "code",
   "execution_count": 679,
   "id": "f5260121",
   "metadata": {},
   "outputs": [],
   "source": [
    "inputs_org = df.drop(['label'], axis=1)\n",
    "target = df['label']"
   ]
  },
  {
   "cell_type": "code",
   "execution_count": 680,
   "id": "5f96b097",
   "metadata": {
    "scrolled": true
   },
   "outputs": [
    {
     "data": {
      "text/plain": [
       "(8816, 784)"
      ]
     },
     "execution_count": 680,
     "metadata": {},
     "output_type": "execute_result"
    }
   ],
   "source": [
    "inputs_org.shape"
   ]
  },
  {
   "cell_type": "code",
   "execution_count": 681,
   "id": "73f486a2",
   "metadata": {},
   "outputs": [],
   "source": [
    "def one_hot_encode(X):\n",
    "    unique_values = list(set(X))\n",
    "    unique_values.sort()\n",
    "    res = [[1 if num == value else 0 for value in unique_values] for num in X]\n",
    "    return res"
   ]
  },
  {
   "cell_type": "code",
   "execution_count": 682,
   "id": "0373d606",
   "metadata": {
    "scrolled": true
   },
   "outputs": [],
   "source": [
    "target = one_hot_encode(target)"
   ]
  },
  {
   "cell_type": "code",
   "execution_count": 683,
   "id": "2418cb63",
   "metadata": {
    "scrolled": true
   },
   "outputs": [
    {
     "data": {
      "text/plain": [
       "(800, 2)"
      ]
     },
     "execution_count": 683,
     "metadata": {},
     "output_type": "execute_result"
    }
   ],
   "source": [
    "inputs.shape"
   ]
  },
  {
   "cell_type": "code",
   "execution_count": 684,
   "id": "071fed6d",
   "metadata": {},
   "outputs": [],
   "source": [
    "targets = np.array(target)"
   ]
  },
  {
   "cell_type": "code",
   "execution_count": 685,
   "id": "a6a42077",
   "metadata": {},
   "outputs": [
    {
     "data": {
      "text/plain": [
       "(8816, 2)"
      ]
     },
     "execution_count": 685,
     "metadata": {},
     "output_type": "execute_result"
    }
   ],
   "source": [
    "targets.shape"
   ]
  },
  {
   "cell_type": "code",
   "execution_count": 686,
   "id": "b45f1181",
   "metadata": {},
   "outputs": [],
   "source": [
    "inputs_org = inputs_org.values"
   ]
  },
  {
   "cell_type": "code",
   "execution_count": 706,
   "id": "ba54f99a",
   "metadata": {
    "scrolled": true
   },
   "outputs": [
    {
     "data": {
      "text/plain": [
       "array([[0., 0., 0., ..., 0., 0., 0.],\n",
       "       [0., 0., 0., ..., 0., 0., 0.],\n",
       "       [0., 0., 0., ..., 0., 0., 0.],\n",
       "       ...,\n",
       "       [0., 0., 0., ..., 0., 0., 0.],\n",
       "       [0., 0., 0., ..., 0., 0., 0.],\n",
       "       [0., 0., 0., ..., 0., 0., 0.]])"
      ]
     },
     "execution_count": 706,
     "metadata": {},
     "output_type": "execute_result"
    }
   ],
   "source": [
    "inputs = inputs_org/255\n",
    "inputs"
   ]
  },
  {
   "cell_type": "code",
   "execution_count": 711,
   "id": "dfd01dc9",
   "metadata": {},
   "outputs": [],
   "source": [
    "mlp = MLP_Classifier(784,[16],2)"
   ]
  },
  {
   "cell_type": "code",
   "execution_count": 712,
   "id": "2a76accf",
   "metadata": {
    "scrolled": true
   },
   "outputs": [
    {
     "name": "stdout",
     "output_type": "stream",
     "text": [
      "\n",
      "-------------Epoch: 1----------------\n",
      "\n",
      "-------------ERROR: [-0.56697522 -0.50467772]----------------\n",
      "\n",
      "\n",
      "\n",
      "-------------Epoch: 2----------------\n",
      "\n"
     ]
    },
    {
     "name": "stderr",
     "output_type": "stream",
     "text": [
      "C:\\Users\\rvikr\\AppData\\Local\\Temp\\ipykernel_2096\\1022464144.py:43: RuntimeWarning: overflow encountered in exp\n",
      "  return 1/(1+np.exp(-1*x))\n"
     ]
    },
    {
     "name": "stdout",
     "output_type": "stream",
     "text": [
      "-------------ERROR: [ 0.04464432 -0.04491029]----------------\n",
      "\n",
      "\n",
      "\n",
      "-------------Epoch: 3----------------\n",
      "\n",
      "-------------ERROR: [ 0.0321836  -0.03150974]----------------\n",
      "\n",
      "\n",
      "\n",
      "-------------Epoch: 4----------------\n",
      "\n",
      "-------------ERROR: [ 0.02826784 -0.03022084]----------------\n",
      "\n",
      "\n",
      "\n",
      "-------------Epoch: 5----------------\n",
      "\n",
      "-------------ERROR: [ 0.02895786 -0.02847612]----------------\n",
      "\n",
      "\n",
      "\n",
      "-------------Epoch: 6----------------\n",
      "\n",
      "-------------ERROR: [ 0.03447658 -0.03549278]----------------\n",
      "\n",
      "\n",
      "\n",
      "-------------Epoch: 7----------------\n",
      "\n",
      "-------------ERROR: [ 0.02513959 -0.02839131]----------------\n",
      "\n",
      "\n",
      "\n",
      "-------------Epoch: 8----------------\n",
      "\n",
      "-------------ERROR: [ 0.03448802 -0.0370871 ]----------------\n",
      "\n",
      "\n",
      "\n",
      "-------------Epoch: 9----------------\n",
      "\n",
      "-------------ERROR: [ 0.01772871 -0.0184068 ]----------------\n",
      "\n",
      "\n",
      "\n",
      "-------------Epoch: 10----------------\n",
      "\n",
      "-------------ERROR: [ 0.03579139 -0.03353258]----------------\n",
      "\n",
      "\n"
     ]
    }
   ],
   "source": [
    "mlp.train(inputs,targets,10, 0.5,True, activation = 'Sigmoid')"
   ]
  },
  {
   "cell_type": "code",
   "execution_count": 579,
   "id": "a6ffc9aa",
   "metadata": {},
   "outputs": [],
   "source": [
    "weights = mlp.get_weights()"
   ]
  },
  {
   "cell_type": "code",
   "execution_count": 581,
   "id": "30946cac",
   "metadata": {},
   "outputs": [],
   "source": [
    "bias = mlp.bias"
   ]
  },
  {
   "cell_type": "code",
   "execution_count": 713,
   "id": "8cb2e514",
   "metadata": {},
   "outputs": [
    {
     "data": {
      "text/plain": [
       "(784,)"
      ]
     },
     "execution_count": 713,
     "metadata": {},
     "output_type": "execute_result"
    }
   ],
   "source": [
    "inputs_org[0].shape"
   ]
  },
  {
   "cell_type": "code",
   "execution_count": 714,
   "id": "2c6b5ae9",
   "metadata": {},
   "outputs": [
    {
     "name": "stderr",
     "output_type": "stream",
     "text": [
      "C:\\Users\\rvikr\\AppData\\Local\\Temp\\ipykernel_2096\\1022464144.py:43: RuntimeWarning: overflow encountered in exp\n",
      "  return 1/(1+np.exp(-1*x))\n"
     ]
    }
   ],
   "source": [
    "## Test Images ##\n",
    "images = []\n",
    "predictions = []\n",
    "for i in range(0,5):\n",
    "    images.append(inputs_org[i*55].reshape(28, 28))\n",
    "    predictions.append(mlp.classify_predict(inputs[i*55]))"
   ]
  },
  {
   "cell_type": "code",
   "execution_count": 715,
   "id": "0a3a6e35",
   "metadata": {
    "scrolled": false
   },
   "outputs": [
    {
     "data": {
      "image/png": "[encoded data removed]",
      "text/plain": [
       "<Figure size 1000x1000 with 5 Axes>"
      ]
     },
     "metadata": {},
     "output_type": "display_data"
    }
   ],
   "source": [
    "fig, axes = plt.subplots(1, 5, figsize=(10, 10))\n",
    "\n",
    "# Flatten the axes array for easy iteration\n",
    "axes = axes.flatten()\n",
    "\n",
    "# Iterate through the images and plot them\n",
    "for i, ax in enumerate(axes):\n",
    "    ax.imshow(images[i], cmap='gray') \n",
    "    ax.axis('off') \n",
    "    ax.set_title('Predicted Class: {}'.format(predictions[i]))\n",
    "plt.tight_layout()\n",
    "plt.show()"
   ]
  }
 ],
 "metadata": {
  "kernelspec": {
   "display_name": "Python 3 (ipykernel)",
   "language": "python",
   "name": "python3"
  },
  "language_info": {
   "codemirror_mode": {
    "name": "ipython",
    "version": 3
   },
   "file_extension": ".py",
   "mimetype": "text/x-python",
   "name": "python",
   "nbconvert_exporter": "python",
   "pygments_lexer": "ipython3",
   "version": "3.9.13"
  }
 },
 "nbformat": 4,
 "nbformat_minor": 5
}
